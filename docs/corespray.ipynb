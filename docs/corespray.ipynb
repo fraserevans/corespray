{
 "cells": [
  {
   "cell_type": "code",
   "execution_count": 2,
   "id": "fc9a61df-f7c5-44d7-813d-1ecf2b1965b8",
   "metadata": {},
   "outputs": [],
   "source": [
    "from corespray import corespraydf\n",
    "from galpy.potential import MWPotential2014\n",
    "from galpy.util import conversion\n",
    "from galpy.orbit import Orbit\n",
    "import numpy as np\n",
    "import matplotlib.pyplot as plt\n",
    "from matplotlib import animation\n",
    "\n",
    "import seaborn as sns\n",
    "\n",
    "from IPython.display import HTML\n",
    "%matplotlib inline"
   ]
  },
  {
   "cell_type": "code",
   "execution_count": 3,
   "id": "be584437-2043-493f-89df-0e7bb5827e5d",
   "metadata": {},
   "outputs": [],
   "source": [
    "o=Orbit.from_name('M3')"
   ]
  },
  {
   "cell_type": "code",
   "execution_count": 4,
   "id": "a56dee65-d9f9-44c6-ac22-7982d278094d",
   "metadata": {},
   "outputs": [
    {
     "name": "stdout",
     "output_type": "stream",
     "text": [
      "0.3787798594866931 0.24862258502956833\n"
     ]
    }
   ],
   "source": [
    "ts=np.linspace(0,1,1000)\n",
    "o.integrate(ts,MWPotential2014)\n",
    "print(o.Tp(),o.Tr())"
   ]
  },
  {
   "cell_type": "code",
   "execution_count": 5,
   "id": "02cf5409-3090-41e8-bcb4-5414bc416528",
   "metadata": {},
   "outputs": [],
   "source": [
    "ro,vo=8.,220.\n",
    "to=conversion.time_in_Gyr(ro=ro,vo=vo)*1000.\n"
   ]
  },
  {
   "cell_type": "code",
   "execution_count": 6,
   "id": "281c7a81-bbe4-4580-9af6-0f707791d7ad",
   "metadata": {},
   "outputs": [],
   "source": [
    "#Globular Cluster NGC 6397\n",
    "gcname='NGC6397'\n",
    "mu0=0.\n",
    "sig0=5.3\n",
    "vesc0=21.1\n",
    "logrho0=6.41\n",
    "rho0=10.0**6.41\n",
    "\n",
    "mgc=1.0e5\n",
    "rgc=3.\n",
    "W0=5.\n",
    "\n",
    "mmin=0.1\n",
    "mmax=1.4\n",
    "alpha=-1"
   ]
  },
  {
   "cell_type": "code",
   "execution_count": null,
   "id": "60cda4dd-e44d-4a98-827e-a6fc740fea0b",
   "metadata": {},
   "outputs": [],
   "source": []
  },
  {
   "cell_type": "code",
   "execution_count": 7,
   "id": "5ffdaf25-fe2a-468e-ba33-46a105d78be6",
   "metadata": {},
   "outputs": [
    {
     "name": "stdout",
     "output_type": "stream",
     "text": [
      "Sample Binary Energies between:  6.696032589494918e+36  and  1.0901929396648558e+40  J\n"
     ]
    }
   ],
   "source": [
    "cspray=corespraydf(gcname,MWPotential2014,mu0,sig0,vesc0,rho0,mgc,rgc,W0,mmin,mmax,alpha,verbose=True)"
   ]
  },
  {
   "cell_type": "code",
   "execution_count": 8,
   "id": "eb12c30d-4013-4b3c-ae33-a8f3afd4a9fc",
   "metadata": {},
   "outputs": [
    {
     "ename": "ValueError",
     "evalue": "setting an array element with a sequence.",
     "output_type": "error",
     "traceback": [
      "\u001b[0;31m---------------------------------------------------------------------------\u001b[0m",
      "\u001b[0;31mTypeError\u001b[0m                                 Traceback (most recent call last)",
      "\u001b[0;31mTypeError\u001b[0m: only size-1 arrays can be converted to Python scalars",
      "\nThe above exception was the direct cause of the following exception:\n",
      "\u001b[0;31mValueError\u001b[0m                                Traceback (most recent call last)",
      "\u001b[0;32m<ipython-input-8-340f9bd0e979>\u001b[0m in \u001b[0;36m<module>\u001b[0;34m\u001b[0m\n\u001b[1;32m      1\u001b[0m \u001b[0;31m#Sample nstar stars for the distribution function\u001b[0m\u001b[0;34m\u001b[0m\u001b[0;34m\u001b[0m\u001b[0;34m\u001b[0m\u001b[0m\n\u001b[1;32m      2\u001b[0m \u001b[0;31m#Set binary = True if you want to keep track of binary kicks\u001b[0m\u001b[0;34m\u001b[0m\u001b[0;34m\u001b[0m\u001b[0;34m\u001b[0m\u001b[0m\n\u001b[0;32m----> 3\u001b[0;31m \u001b[0mos\u001b[0m\u001b[0;34m=\u001b[0m\u001b[0mcspray\u001b[0m\u001b[0;34m.\u001b[0m\u001b[0msample\u001b[0m\u001b[0;34m(\u001b[0m\u001b[0;36m1000\u001b[0m\u001b[0;34m,\u001b[0m\u001b[0mnstar\u001b[0m\u001b[0;34m=\u001b[0m\u001b[0;36m100\u001b[0m\u001b[0;34m,\u001b[0m\u001b[0mbinaries\u001b[0m\u001b[0;34m=\u001b[0m\u001b[0;32mTrue\u001b[0m\u001b[0;34m)\u001b[0m\u001b[0;34m\u001b[0m\u001b[0;34m\u001b[0m\u001b[0m\n\u001b[0m",
      "\u001b[0;32m~/Codes/corespray/corespray/df/corespraydf.py\u001b[0m in \u001b[0;36msample\u001b[0;34m(self, tdisrupt, rate, nstar, npeak, binaries, verbose)\u001b[0m\n\u001b[1;32m    255\u001b[0m                                             \u001b[0mpzi\u001b[0m\u001b[0;34m=\u001b[0m\u001b[0mself\u001b[0m\u001b[0;34m.\u001b[0m\u001b[0mmstar\u001b[0m\u001b[0;34m*\u001b[0m\u001b[0mvzs\u001b[0m\u001b[0;34m+\u001b[0m\u001b[0mmb\u001b[0m\u001b[0;34m*\u001b[0m\u001b[0mvzb\u001b[0m\u001b[0;34m\u001b[0m\u001b[0;34m\u001b[0m\u001b[0m\n\u001b[1;32m    256\u001b[0m \u001b[0;34m\u001b[0m\u001b[0m\n\u001b[0;32m--> 257\u001b[0;31m                                             \u001b[0mvxkickb\u001b[0m\u001b[0;34m[\u001b[0m\u001b[0mnescape\u001b[0m\u001b[0;34m]\u001b[0m\u001b[0;34m=\u001b[0m\u001b[0;34m(\u001b[0m\u001b[0mpxi\u001b[0m\u001b[0;34m-\u001b[0m\u001b[0mself\u001b[0m\u001b[0;34m.\u001b[0m\u001b[0mmstar\u001b[0m\u001b[0;34m*\u001b[0m\u001b[0mvxkick\u001b[0m\u001b[0;34m[\u001b[0m\u001b[0mnescape\u001b[0m\u001b[0;34m]\u001b[0m\u001b[0;34m)\u001b[0m\u001b[0;34m/\u001b[0m\u001b[0mmb\u001b[0m\u001b[0;34m\u001b[0m\u001b[0;34m\u001b[0m\u001b[0m\n\u001b[0m\u001b[1;32m    258\u001b[0m                                             \u001b[0mvykickb\u001b[0m\u001b[0;34m[\u001b[0m\u001b[0mnescape\u001b[0m\u001b[0;34m]\u001b[0m\u001b[0;34m=\u001b[0m\u001b[0;34m(\u001b[0m\u001b[0mpyi\u001b[0m\u001b[0;34m-\u001b[0m\u001b[0mself\u001b[0m\u001b[0;34m.\u001b[0m\u001b[0mmstar\u001b[0m\u001b[0;34m*\u001b[0m\u001b[0mvykick\u001b[0m\u001b[0;34m[\u001b[0m\u001b[0mnescape\u001b[0m\u001b[0;34m]\u001b[0m\u001b[0;34m)\u001b[0m\u001b[0;34m/\u001b[0m\u001b[0mmb\u001b[0m\u001b[0;34m\u001b[0m\u001b[0;34m\u001b[0m\u001b[0m\n\u001b[1;32m    259\u001b[0m                                             \u001b[0mvzkickb\u001b[0m\u001b[0;34m[\u001b[0m\u001b[0mnescape\u001b[0m\u001b[0;34m]\u001b[0m\u001b[0;34m=\u001b[0m\u001b[0;34m(\u001b[0m\u001b[0mpzi\u001b[0m\u001b[0;34m-\u001b[0m\u001b[0mself\u001b[0m\u001b[0;34m.\u001b[0m\u001b[0mmstar\u001b[0m\u001b[0;34m*\u001b[0m\u001b[0mvzkick\u001b[0m\u001b[0;34m[\u001b[0m\u001b[0mnescape\u001b[0m\u001b[0;34m]\u001b[0m\u001b[0;34m)\u001b[0m\u001b[0;34m/\u001b[0m\u001b[0mmb\u001b[0m\u001b[0;34m\u001b[0m\u001b[0;34m\u001b[0m\u001b[0m\n",
      "\u001b[0;31mValueError\u001b[0m: setting an array element with a sequence."
     ]
    }
   ],
   "source": [
    "#Sample nstar stars for the distribution function\n",
    "#Set binary = True if you want to keep track of binary kicks\n",
    "os=cspray.sample(1000,nstar=100,binaries=True)"
   ]
  },
  {
   "cell_type": "code",
   "execution_count": null,
   "id": "dc2a5df1-e785-472b-9ce9-afb3e31730a7",
   "metadata": {},
   "outputs": [],
   "source": [
    "#Bindx will tell you what binaries were given kicks that also resulted in escapeing the cluster\n",
    "cspray.bindx"
   ]
  },
  {
   "cell_type": "code",
   "execution_count": null,
   "id": "b1a966a6-2259-4877-a429-c428b532f962",
   "metadata": {},
   "outputs": [],
   "source": [
    "#Plot R and z of escaped stars and binaries\n",
    "plt.plot(os.R(),os.z(),'.')\n",
    "plt.plot(cspray.obf.R()[cspray.bindx],cspray.obf.z()[cspray.bindx],'.')\n",
    "\n",
    "plt.xlabel('R (kpc)')\n",
    "plt.ylabel('z (kpc)')\n",
    "\n",
    "plt.show()"
   ]
  },
  {
   "cell_type": "code",
   "execution_count": null,
   "id": "a96a53ef-0e49-4f97-a312-c62ba68cd1c9",
   "metadata": {},
   "outputs": [],
   "source": [
    "plt.plot(cspray.tesc,cspray.vesc,'.')\n",
    "plt.plot(cspray.tesc[cspray.bindx],cspray.vescb[cspray.bindx],'.')\n",
    "\n",
    "plt.xlabel('Escape Time (Myr)')\n",
    "plt.ylabel('Escape Velocity (km/s)')"
   ]
  },
  {
   "cell_type": "code",
   "execution_count": null,
   "id": "f191b720-4683-4475-828a-a1ed4216d6a3",
   "metadata": {},
   "outputs": [],
   "source": [
    "cspray.animate(frames=100,interval=50,xlim=(-15,15),ylim=(-15,15))"
   ]
  },
  {
   "cell_type": "code",
   "execution_count": 9,
   "id": "ee069b35-5b2a-483f-961f-0cae3fbfed61",
   "metadata": {},
   "outputs": [
    {
     "ename": "AttributeError",
     "evalue": "'corespraydf' object has no attribute 'anim'",
     "output_type": "error",
     "traceback": [
      "\u001b[0;31m---------------------------------------------------------------------------\u001b[0m",
      "\u001b[0;31mAttributeError\u001b[0m                            Traceback (most recent call last)",
      "\u001b[0;32m<ipython-input-9-fb353e63f076>\u001b[0m in \u001b[0;36m<module>\u001b[0;34m\u001b[0m\n\u001b[0;32m----> 1\u001b[0;31m \u001b[0mHTML\u001b[0m\u001b[0;34m(\u001b[0m\u001b[0mcspray\u001b[0m\u001b[0;34m.\u001b[0m\u001b[0manim\u001b[0m\u001b[0;34m.\u001b[0m\u001b[0mto_jshtml\u001b[0m\u001b[0;34m(\u001b[0m\u001b[0;34m)\u001b[0m\u001b[0;34m)\u001b[0m\u001b[0;34m\u001b[0m\u001b[0;34m\u001b[0m\u001b[0m\n\u001b[0m",
      "\u001b[0;31mAttributeError\u001b[0m: 'corespraydf' object has no attribute 'anim'"
     ]
    }
   ],
   "source": [
    "HTML(cspray.anim.to_jshtml())\n"
   ]
  },
  {
   "cell_type": "code",
   "execution_count": 10,
   "id": "798a8454-bd54-403c-b04e-a8dbce2ae108",
   "metadata": {},
   "outputs": [
    {
     "ename": "AttributeError",
     "evalue": "'corespraydf' object has no attribute 'of'",
     "output_type": "error",
     "traceback": [
      "\u001b[0;31m---------------------------------------------------------------------------\u001b[0m",
      "\u001b[0;31mAttributeError\u001b[0m                            Traceback (most recent call last)",
      "\u001b[0;32m<ipython-input-10-98ddbc0c7c2d>\u001b[0m in \u001b[0;36m<module>\u001b[0;34m\u001b[0m\n\u001b[0;32m----> 1\u001b[0;31m \u001b[0mcspray\u001b[0m\u001b[0;34m.\u001b[0m\u001b[0msnapout\u001b[0m\u001b[0;34m(\u001b[0m\u001b[0;34m)\u001b[0m\u001b[0;34m\u001b[0m\u001b[0;34m\u001b[0m\u001b[0m\n\u001b[0m",
      "\u001b[0;32m~/Codes/corespray/corespray/df/corespraydf.py\u001b[0m in \u001b[0;36msnapout\u001b[0;34m(self, filename, filenameb)\u001b[0m\n\u001b[1;32m    543\u001b[0m \u001b[0;34m\u001b[0m\u001b[0m\n\u001b[1;32m    544\u001b[0m \t    \"\"\"\n\u001b[0;32m--> 545\u001b[0;31m                 \u001b[0mR\u001b[0m\u001b[0;34m=\u001b[0m\u001b[0mnp\u001b[0m\u001b[0;34m.\u001b[0m\u001b[0mappend\u001b[0m\u001b[0;34m(\u001b[0m\u001b[0mself\u001b[0m\u001b[0;34m.\u001b[0m\u001b[0mo\u001b[0m\u001b[0;34m.\u001b[0m\u001b[0mR\u001b[0m\u001b[0;34m(\u001b[0m\u001b[0;36m0.\u001b[0m\u001b[0;34m)\u001b[0m\u001b[0;34m,\u001b[0m\u001b[0mself\u001b[0m\u001b[0;34m.\u001b[0m\u001b[0mof\u001b[0m\u001b[0;34m.\u001b[0m\u001b[0mR\u001b[0m\u001b[0;34m(\u001b[0m\u001b[0;36m0.\u001b[0m\u001b[0;34m)\u001b[0m\u001b[0;34m)\u001b[0m\u001b[0;34m\u001b[0m\u001b[0;34m\u001b[0m\u001b[0m\n\u001b[0m\u001b[1;32m    546\u001b[0m                 \u001b[0mvR\u001b[0m\u001b[0;34m=\u001b[0m\u001b[0mnp\u001b[0m\u001b[0;34m.\u001b[0m\u001b[0mappend\u001b[0m\u001b[0;34m(\u001b[0m\u001b[0mself\u001b[0m\u001b[0;34m.\u001b[0m\u001b[0mo\u001b[0m\u001b[0;34m.\u001b[0m\u001b[0mvR\u001b[0m\u001b[0;34m(\u001b[0m\u001b[0;36m0.\u001b[0m\u001b[0;34m)\u001b[0m\u001b[0;34m,\u001b[0m\u001b[0mself\u001b[0m\u001b[0;34m.\u001b[0m\u001b[0mof\u001b[0m\u001b[0;34m.\u001b[0m\u001b[0mvR\u001b[0m\u001b[0;34m(\u001b[0m\u001b[0;36m0.\u001b[0m\u001b[0;34m)\u001b[0m\u001b[0;34m)\u001b[0m\u001b[0;34m\u001b[0m\u001b[0;34m\u001b[0m\u001b[0m\n\u001b[1;32m    547\u001b[0m                 \u001b[0mvT\u001b[0m\u001b[0;34m=\u001b[0m\u001b[0mnp\u001b[0m\u001b[0;34m.\u001b[0m\u001b[0mappend\u001b[0m\u001b[0;34m(\u001b[0m\u001b[0mself\u001b[0m\u001b[0;34m.\u001b[0m\u001b[0mo\u001b[0m\u001b[0;34m.\u001b[0m\u001b[0mvT\u001b[0m\u001b[0;34m(\u001b[0m\u001b[0;36m0.\u001b[0m\u001b[0;34m)\u001b[0m\u001b[0;34m,\u001b[0m\u001b[0mself\u001b[0m\u001b[0;34m.\u001b[0m\u001b[0mof\u001b[0m\u001b[0;34m.\u001b[0m\u001b[0mvT\u001b[0m\u001b[0;34m(\u001b[0m\u001b[0;36m0.\u001b[0m\u001b[0;34m)\u001b[0m\u001b[0;34m)\u001b[0m\u001b[0;34m\u001b[0m\u001b[0;34m\u001b[0m\u001b[0m\n",
      "\u001b[0;31mAttributeError\u001b[0m: 'corespraydf' object has no attribute 'of'"
     ]
    }
   ],
   "source": [
    "cspray.snapout()"
   ]
  },
  {
   "cell_type": "code",
   "execution_count": 11,
   "id": "82ce17f6-b0d3-485c-a8a3-260bfc8758c9",
   "metadata": {},
   "outputs": [
    {
     "ename": "NameError",
     "evalue": "name 'os' is not defined",
     "output_type": "error",
     "traceback": [
      "\u001b[0;31m---------------------------------------------------------------------------\u001b[0m",
      "\u001b[0;31mNameError\u001b[0m                                 Traceback (most recent call last)",
      "\u001b[0;32m<ipython-input-11-25795e060b6e>\u001b[0m in \u001b[0;36m<module>\u001b[0;34m\u001b[0m\n\u001b[0;32m----> 1\u001b[0;31m \u001b[0mplt\u001b[0m\u001b[0;34m.\u001b[0m\u001b[0mplot\u001b[0m\u001b[0;34m(\u001b[0m\u001b[0mos\u001b[0m\u001b[0;34m.\u001b[0m\u001b[0mx\u001b[0m\u001b[0;34m(\u001b[0m\u001b[0;34m)\u001b[0m\u001b[0;34m,\u001b[0m\u001b[0mos\u001b[0m\u001b[0;34m.\u001b[0m\u001b[0my\u001b[0m\u001b[0;34m(\u001b[0m\u001b[0;34m)\u001b[0m\u001b[0;34m,\u001b[0m\u001b[0;34m'.'\u001b[0m\u001b[0;34m)\u001b[0m\u001b[0;34m\u001b[0m\u001b[0;34m\u001b[0m\u001b[0m\n\u001b[0m\u001b[1;32m      2\u001b[0m \u001b[0mplt\u001b[0m\u001b[0;34m.\u001b[0m\u001b[0mplot\u001b[0m\u001b[0;34m(\u001b[0m\u001b[0mcspray\u001b[0m\u001b[0;34m.\u001b[0m\u001b[0mobf\u001b[0m\u001b[0;34m.\u001b[0m\u001b[0mx\u001b[0m\u001b[0;34m(\u001b[0m\u001b[0;34m)\u001b[0m\u001b[0;34m[\u001b[0m\u001b[0mcspray\u001b[0m\u001b[0;34m.\u001b[0m\u001b[0mbindx\u001b[0m\u001b[0;34m]\u001b[0m\u001b[0;34m,\u001b[0m\u001b[0mcspray\u001b[0m\u001b[0;34m.\u001b[0m\u001b[0mobf\u001b[0m\u001b[0;34m.\u001b[0m\u001b[0my\u001b[0m\u001b[0;34m(\u001b[0m\u001b[0;34m)\u001b[0m\u001b[0;34m[\u001b[0m\u001b[0mcspray\u001b[0m\u001b[0;34m.\u001b[0m\u001b[0mbindx\u001b[0m\u001b[0;34m]\u001b[0m\u001b[0;34m,\u001b[0m\u001b[0;34m'.'\u001b[0m\u001b[0;34m)\u001b[0m\u001b[0;34m\u001b[0m\u001b[0;34m\u001b[0m\u001b[0m\n\u001b[1;32m      3\u001b[0m \u001b[0;34m\u001b[0m\u001b[0m\n\u001b[1;32m      4\u001b[0m \u001b[0mplt\u001b[0m\u001b[0;34m.\u001b[0m\u001b[0mxlim\u001b[0m\u001b[0;34m(\u001b[0m\u001b[0;34m-\u001b[0m\u001b[0;36m15\u001b[0m\u001b[0;34m,\u001b[0m\u001b[0;36m15\u001b[0m\u001b[0;34m)\u001b[0m\u001b[0;34m\u001b[0m\u001b[0;34m\u001b[0m\u001b[0m\n\u001b[1;32m      5\u001b[0m \u001b[0mplt\u001b[0m\u001b[0;34m.\u001b[0m\u001b[0mylim\u001b[0m\u001b[0;34m(\u001b[0m\u001b[0;34m-\u001b[0m\u001b[0;36m15\u001b[0m\u001b[0;34m,\u001b[0m\u001b[0;36m15\u001b[0m\u001b[0;34m)\u001b[0m\u001b[0;34m\u001b[0m\u001b[0;34m\u001b[0m\u001b[0m\n",
      "\u001b[0;31mNameError\u001b[0m: name 'os' is not defined"
     ]
    }
   ],
   "source": [
    "plt.plot(os.x(),os.y(),'.')\n",
    "plt.plot(cspray.obf.x()[cspray.bindx],cspray.obf.y()[cspray.bindx],'.')\n",
    "\n",
    "plt.xlim(-15,15)\n",
    "plt.ylim(-15,15)\n",
    "plt.xlabel('X (kpc)')\n",
    "plt.ylabel('Y (kpc)')\n",
    "plt.show()\n",
    "plt.close()"
   ]
  },
  {
   "cell_type": "code",
   "execution_count": 12,
   "id": "56f120ce-e443-4c6e-af26-ca858dffc75b",
   "metadata": {},
   "outputs": [
    {
     "ename": "NameError",
     "evalue": "name 'os' is not defined",
     "output_type": "error",
     "traceback": [
      "\u001b[0;31m---------------------------------------------------------------------------\u001b[0m",
      "\u001b[0;31mNameError\u001b[0m                                 Traceback (most recent call last)",
      "\u001b[0;32m<ipython-input-12-d0086c036e0e>\u001b[0m in \u001b[0;36m<module>\u001b[0;34m\u001b[0m\n\u001b[0;32m----> 1\u001b[0;31m \u001b[0mplt\u001b[0m\u001b[0;34m.\u001b[0m\u001b[0mplot\u001b[0m\u001b[0;34m(\u001b[0m\u001b[0mos\u001b[0m\u001b[0;34m.\u001b[0m\u001b[0mra\u001b[0m\u001b[0;34m(\u001b[0m\u001b[0;34m)\u001b[0m\u001b[0;34m,\u001b[0m\u001b[0mos\u001b[0m\u001b[0;34m.\u001b[0m\u001b[0mdec\u001b[0m\u001b[0;34m(\u001b[0m\u001b[0;34m)\u001b[0m\u001b[0;34m,\u001b[0m\u001b[0;34m'.'\u001b[0m\u001b[0;34m)\u001b[0m\u001b[0;34m\u001b[0m\u001b[0;34m\u001b[0m\u001b[0m\n\u001b[0m\u001b[1;32m      2\u001b[0m \u001b[0mplt\u001b[0m\u001b[0;34m.\u001b[0m\u001b[0mplot\u001b[0m\u001b[0;34m(\u001b[0m\u001b[0mcspray\u001b[0m\u001b[0;34m.\u001b[0m\u001b[0mobf\u001b[0m\u001b[0;34m.\u001b[0m\u001b[0mra\u001b[0m\u001b[0;34m(\u001b[0m\u001b[0;34m)\u001b[0m\u001b[0;34m[\u001b[0m\u001b[0mcspray\u001b[0m\u001b[0;34m.\u001b[0m\u001b[0mbindx\u001b[0m\u001b[0;34m]\u001b[0m\u001b[0;34m,\u001b[0m\u001b[0mcspray\u001b[0m\u001b[0;34m.\u001b[0m\u001b[0mobf\u001b[0m\u001b[0;34m.\u001b[0m\u001b[0mdec\u001b[0m\u001b[0;34m(\u001b[0m\u001b[0;34m)\u001b[0m\u001b[0;34m[\u001b[0m\u001b[0mcspray\u001b[0m\u001b[0;34m.\u001b[0m\u001b[0mbindx\u001b[0m\u001b[0;34m]\u001b[0m\u001b[0;34m,\u001b[0m\u001b[0;34m'.'\u001b[0m\u001b[0;34m)\u001b[0m\u001b[0;34m\u001b[0m\u001b[0;34m\u001b[0m\u001b[0m\n\u001b[1;32m      3\u001b[0m \u001b[0;34m\u001b[0m\u001b[0m\n\u001b[1;32m      4\u001b[0m \u001b[0mplt\u001b[0m\u001b[0;34m.\u001b[0m\u001b[0mxlabel\u001b[0m\u001b[0;34m(\u001b[0m\u001b[0;34m'Ra (degree)'\u001b[0m\u001b[0;34m)\u001b[0m\u001b[0;34m\u001b[0m\u001b[0;34m\u001b[0m\u001b[0m\n\u001b[1;32m      5\u001b[0m \u001b[0mplt\u001b[0m\u001b[0;34m.\u001b[0m\u001b[0mylabel\u001b[0m\u001b[0;34m(\u001b[0m\u001b[0;34m'Dec (degree)'\u001b[0m\u001b[0;34m)\u001b[0m\u001b[0;34m\u001b[0m\u001b[0;34m\u001b[0m\u001b[0m\n",
      "\u001b[0;31mNameError\u001b[0m: name 'os' is not defined"
     ]
    }
   ],
   "source": [
    "plt.plot(os.ra(),os.dec(),'.')\n",
    "plt.plot(cspray.obf.ra()[cspray.bindx],cspray.obf.dec()[cspray.bindx],'.')\n",
    "\n",
    "plt.xlabel('Ra (degree)')\n",
    "plt.ylabel('Dec (degree)')\n",
    "plt.show()\n",
    "plt.close()"
   ]
  },
  {
   "cell_type": "code",
   "execution_count": 13,
   "id": "8d8e86e9-bcdd-49ea-9308-f24b2570c119",
   "metadata": {},
   "outputs": [
    {
     "ename": "NameError",
     "evalue": "name 'os' is not defined",
     "output_type": "error",
     "traceback": [
      "\u001b[0;31m---------------------------------------------------------------------------\u001b[0m",
      "\u001b[0;31mNameError\u001b[0m                                 Traceback (most recent call last)",
      "\u001b[0;32m<ipython-input-13-2dea4a640016>\u001b[0m in \u001b[0;36m<module>\u001b[0;34m\u001b[0m\n\u001b[0;32m----> 1\u001b[0;31m \u001b[0mplt\u001b[0m\u001b[0;34m.\u001b[0m\u001b[0mplot\u001b[0m\u001b[0;34m(\u001b[0m\u001b[0mos\u001b[0m\u001b[0;34m.\u001b[0m\u001b[0mpmra\u001b[0m\u001b[0;34m(\u001b[0m\u001b[0;34m)\u001b[0m\u001b[0;34m,\u001b[0m\u001b[0mos\u001b[0m\u001b[0;34m.\u001b[0m\u001b[0mpmdec\u001b[0m\u001b[0;34m(\u001b[0m\u001b[0;34m)\u001b[0m\u001b[0;34m,\u001b[0m\u001b[0;34m'.'\u001b[0m\u001b[0;34m)\u001b[0m\u001b[0;34m\u001b[0m\u001b[0;34m\u001b[0m\u001b[0m\n\u001b[0m\u001b[1;32m      2\u001b[0m \u001b[0mplt\u001b[0m\u001b[0;34m.\u001b[0m\u001b[0mplot\u001b[0m\u001b[0;34m(\u001b[0m\u001b[0mcspray\u001b[0m\u001b[0;34m.\u001b[0m\u001b[0mobf\u001b[0m\u001b[0;34m.\u001b[0m\u001b[0mpmra\u001b[0m\u001b[0;34m(\u001b[0m\u001b[0;34m)\u001b[0m\u001b[0;34m[\u001b[0m\u001b[0mcspray\u001b[0m\u001b[0;34m.\u001b[0m\u001b[0mbindx\u001b[0m\u001b[0;34m]\u001b[0m\u001b[0;34m,\u001b[0m\u001b[0mcspray\u001b[0m\u001b[0;34m.\u001b[0m\u001b[0mobf\u001b[0m\u001b[0;34m.\u001b[0m\u001b[0mpmdec\u001b[0m\u001b[0;34m(\u001b[0m\u001b[0;34m)\u001b[0m\u001b[0;34m[\u001b[0m\u001b[0mcspray\u001b[0m\u001b[0;34m.\u001b[0m\u001b[0mbindx\u001b[0m\u001b[0;34m]\u001b[0m\u001b[0;34m,\u001b[0m\u001b[0;34m'.'\u001b[0m\u001b[0;34m)\u001b[0m\u001b[0;34m\u001b[0m\u001b[0;34m\u001b[0m\u001b[0m\n\u001b[1;32m      3\u001b[0m \u001b[0;34m\u001b[0m\u001b[0m\n\u001b[1;32m      4\u001b[0m \u001b[0mplt\u001b[0m\u001b[0;34m.\u001b[0m\u001b[0mxlabel\u001b[0m\u001b[0;34m(\u001b[0m\u001b[0;34m'pmra (mas/yr)'\u001b[0m\u001b[0;34m)\u001b[0m\u001b[0;34m\u001b[0m\u001b[0;34m\u001b[0m\u001b[0m\n\u001b[1;32m      5\u001b[0m \u001b[0mplt\u001b[0m\u001b[0;34m.\u001b[0m\u001b[0mylabel\u001b[0m\u001b[0;34m(\u001b[0m\u001b[0;34m'pmdec (mas/yr)'\u001b[0m\u001b[0;34m)\u001b[0m\u001b[0;34m\u001b[0m\u001b[0;34m\u001b[0m\u001b[0m\n",
      "\u001b[0;31mNameError\u001b[0m: name 'os' is not defined"
     ]
    }
   ],
   "source": [
    "plt.plot(os.pmra(),os.pmdec(),'.')\n",
    "plt.plot(cspray.obf.pmra()[cspray.bindx],cspray.obf.pmdec()[cspray.bindx],'.')\n",
    "\n",
    "plt.xlabel('pmra (mas/yr)')\n",
    "plt.ylabel('pmdec (mas/yr)')\n",
    "plt.show()\n",
    "plt.close()"
   ]
  },
  {
   "cell_type": "code",
   "execution_count": 14,
   "id": "9d49ee10-bd02-4639-be4d-6fb8cb52cfa7",
   "metadata": {},
   "outputs": [
    {
     "data": {
      "image/png": "[encoded data removed]",
      "text/plain": [
       "<Figure size 432x288 with 1 Axes>"
      ]
     },
     "metadata": {
      "needs_background": "light"
     },
     "output_type": "display_data"
    },
    {
     "ename": "IndexError",
     "evalue": "boolean index did not match indexed array along dimension 0; dimension is 0 but corresponding boolean dimension is 100",
     "output_type": "error",
     "traceback": [
      "\u001b[0;31m---------------------------------------------------------------------------\u001b[0m",
      "\u001b[0;31mIndexError\u001b[0m                                Traceback (most recent call last)",
      "\u001b[0;32m<ipython-input-14-6a3749cebd3d>\u001b[0m in \u001b[0;36m<module>\u001b[0;34m\u001b[0m\n\u001b[1;32m      7\u001b[0m \u001b[0;34m\u001b[0m\u001b[0m\n\u001b[1;32m      8\u001b[0m \u001b[0mplt\u001b[0m\u001b[0;34m.\u001b[0m\u001b[0mhist\u001b[0m\u001b[0;34m(\u001b[0m\u001b[0mcspray\u001b[0m\u001b[0;34m.\u001b[0m\u001b[0mvesc\u001b[0m\u001b[0;34m)\u001b[0m\u001b[0;34m\u001b[0m\u001b[0;34m\u001b[0m\u001b[0m\n\u001b[0;32m----> 9\u001b[0;31m \u001b[0mplt\u001b[0m\u001b[0;34m.\u001b[0m\u001b[0mhist\u001b[0m\u001b[0;34m(\u001b[0m\u001b[0mcspray\u001b[0m\u001b[0;34m.\u001b[0m\u001b[0mvescb\u001b[0m\u001b[0;34m[\u001b[0m\u001b[0mcspray\u001b[0m\u001b[0;34m.\u001b[0m\u001b[0mbindx\u001b[0m\u001b[0;34m]\u001b[0m\u001b[0;34m)\u001b[0m\u001b[0;34m\u001b[0m\u001b[0;34m\u001b[0m\u001b[0m\n\u001b[0m\u001b[1;32m     10\u001b[0m \u001b[0mplt\u001b[0m\u001b[0;34m.\u001b[0m\u001b[0mxlabel\u001b[0m\u001b[0;34m(\u001b[0m\u001b[0;34m'Escape Velocity (km/s)'\u001b[0m\u001b[0;34m)\u001b[0m\u001b[0;34m\u001b[0m\u001b[0;34m\u001b[0m\u001b[0m\n\u001b[1;32m     11\u001b[0m \u001b[0mplt\u001b[0m\u001b[0;34m.\u001b[0m\u001b[0mshow\u001b[0m\u001b[0;34m(\u001b[0m\u001b[0;34m)\u001b[0m\u001b[0;34m\u001b[0m\u001b[0;34m\u001b[0m\u001b[0m\n",
      "\u001b[0;31mIndexError\u001b[0m: boolean index did not match indexed array along dimension 0; dimension is 0 but corresponding boolean dimension is 100"
     ]
    },
    {
     "data": {
      "image/png": "[encoded data removed]",
      "text/plain": [
       "<Figure size 432x288 with 1 Axes>"
      ]
     },
     "metadata": {
      "needs_background": "light"
     },
     "output_type": "display_data"
    }
   ],
   "source": [
    "plt.hist(cspray.tesc)\n",
    "plt.hist(cspray.tesc[cspray.bindx])\n",
    "\n",
    "plt.xlabel('Escape Time (Myr)')\n",
    "plt.show()\n",
    "plt.close()\n",
    "\n",
    "plt.hist(cspray.vesc)\n",
    "plt.hist(cspray.vescb[cspray.bindx])\n",
    "plt.xlabel('Escape Velocity (km/s)')\n",
    "plt.show()\n",
    "plt.close()"
   ]
  },
  {
   "cell_type": "code",
   "execution_count": null,
   "id": "8c3f7298-ecb1-4660-a740-a2086fe9810a",
   "metadata": {},
   "outputs": [],
   "source": [
    "plt.plot(cspray.vesc[cspray.bindx],cspray.vescb[cspray.bindx],'o')\n",
    "plt.xlabel('vesc star')\n",
    "plt.ylabel('vesc binary')\n",
    "plt.xlim(0,250)\n",
    "plt.ylim(0,250)"
   ]
  },
  {
   "cell_type": "code",
   "execution_count": null,
   "id": "a2d28b35-8878-4336-a87b-5e1b212b8a64",
   "metadata": {},
   "outputs": [],
   "source": [
    "((cspray.mb1+cspray.mb2)/cspray.mstar)[cspray.bindx]"
   ]
  },
  {
   "cell_type": "code",
   "execution_count": null,
   "id": "2631a938-053f-40d6-a102-1ecad0acc530",
   "metadata": {},
   "outputs": [],
   "source": [
    "ts=np.linspace(0,1,1000)\n",
    "os.integrate(ts,MWPotential2014)\n",
    "\n",
    "jr,jp,jz=os.jr(),os.jp(),os.jz()\n"
   ]
  },
  {
   "cell_type": "code",
   "execution_count": 15,
   "id": "c3097dad-fa4b-4e2e-b1bb-87b579f99455",
   "metadata": {},
   "outputs": [
    {
     "ename": "AttributeError",
     "evalue": "'corespraydf' object has no attribute 'obf'",
     "output_type": "error",
     "traceback": [
      "\u001b[0;31m---------------------------------------------------------------------------\u001b[0m",
      "\u001b[0;31mAttributeError\u001b[0m                            Traceback (most recent call last)",
      "\u001b[0;32m<ipython-input-15-85d771ed5bb9>\u001b[0m in \u001b[0;36m<module>\u001b[0;34m\u001b[0m\n\u001b[0;32m----> 1\u001b[0;31m \u001b[0mcspray\u001b[0m\u001b[0;34m.\u001b[0m\u001b[0mobf\u001b[0m\u001b[0;34m.\u001b[0m\u001b[0mintegrate\u001b[0m\u001b[0;34m(\u001b[0m\u001b[0mts\u001b[0m\u001b[0;34m,\u001b[0m\u001b[0mMWPotential2014\u001b[0m\u001b[0;34m)\u001b[0m\u001b[0;34m\u001b[0m\u001b[0;34m\u001b[0m\u001b[0m\n\u001b[0m\u001b[1;32m      2\u001b[0m \u001b[0mjrb\u001b[0m\u001b[0;34m,\u001b[0m\u001b[0mjpb\u001b[0m\u001b[0;34m,\u001b[0m\u001b[0mjzb\u001b[0m\u001b[0;34m=\u001b[0m\u001b[0mcspray\u001b[0m\u001b[0;34m.\u001b[0m\u001b[0mobf\u001b[0m\u001b[0;34m.\u001b[0m\u001b[0mjr\u001b[0m\u001b[0;34m(\u001b[0m\u001b[0;34m)\u001b[0m\u001b[0;34m,\u001b[0m\u001b[0mcspray\u001b[0m\u001b[0;34m.\u001b[0m\u001b[0mobf\u001b[0m\u001b[0;34m.\u001b[0m\u001b[0mjp\u001b[0m\u001b[0;34m(\u001b[0m\u001b[0;34m)\u001b[0m\u001b[0;34m,\u001b[0m\u001b[0mcspray\u001b[0m\u001b[0;34m.\u001b[0m\u001b[0mobf\u001b[0m\u001b[0;34m.\u001b[0m\u001b[0mjz\u001b[0m\u001b[0;34m(\u001b[0m\u001b[0;34m)\u001b[0m\u001b[0;34m\u001b[0m\u001b[0;34m\u001b[0m\u001b[0m\n",
      "\u001b[0;31mAttributeError\u001b[0m: 'corespraydf' object has no attribute 'obf'"
     ]
    }
   ],
   "source": [
    "cspray.obf.integrate(ts,MWPotential2014)\n",
    "jrb,jpb,jzb=cspray.obf.jr(),cspray.obf.jp(),cspray.obf.jz()\n"
   ]
  },
  {
   "cell_type": "code",
   "execution_count": 16,
   "id": "9f11b692-b8d0-43d0-9dac-7c046e6fd871",
   "metadata": {},
   "outputs": [],
   "source": [
    "vindx=cspray.vesc<1.0e10"
   ]
  },
  {
   "cell_type": "code",
   "execution_count": 17,
   "id": "1eff0d37-97f2-467c-8295-d8db3f419cad",
   "metadata": {},
   "outputs": [
    {
     "ename": "NameError",
     "evalue": "name 'jr' is not defined",
     "output_type": "error",
     "traceback": [
      "\u001b[0;31m---------------------------------------------------------------------------\u001b[0m",
      "\u001b[0;31mNameError\u001b[0m                                 Traceback (most recent call last)",
      "\u001b[0;32m<ipython-input-17-e7a6869befa5>\u001b[0m in \u001b[0;36m<module>\u001b[0;34m\u001b[0m\n\u001b[1;32m      1\u001b[0m \u001b[0mplt\u001b[0m\u001b[0;34m.\u001b[0m\u001b[0msubplot\u001b[0m\u001b[0;34m(\u001b[0m\u001b[0;36m1\u001b[0m\u001b[0;34m,\u001b[0m\u001b[0;36m2\u001b[0m\u001b[0;34m,\u001b[0m\u001b[0;36m1\u001b[0m\u001b[0;34m)\u001b[0m\u001b[0;34m\u001b[0m\u001b[0;34m\u001b[0m\u001b[0m\n\u001b[1;32m      2\u001b[0m \u001b[0;34m\u001b[0m\u001b[0m\n\u001b[0;32m----> 3\u001b[0;31m \u001b[0mplt\u001b[0m\u001b[0;34m.\u001b[0m\u001b[0mplot\u001b[0m\u001b[0;34m(\u001b[0m\u001b[0mjr\u001b[0m\u001b[0;34m[\u001b[0m\u001b[0mvindx\u001b[0m\u001b[0;34m]\u001b[0m\u001b[0;34m,\u001b[0m\u001b[0mjp\u001b[0m\u001b[0;34m[\u001b[0m\u001b[0mvindx\u001b[0m\u001b[0;34m]\u001b[0m\u001b[0;34m,\u001b[0m\u001b[0;34m'.'\u001b[0m\u001b[0;34m,\u001b[0m\u001b[0malpha\u001b[0m\u001b[0;34m=\u001b[0m\u001b[0;36m1\u001b[0m\u001b[0;34m,\u001b[0m\u001b[0mlabel\u001b[0m\u001b[0;34m=\u001b[0m\u001b[0;34m'Single Stars'\u001b[0m\u001b[0;34m)\u001b[0m\u001b[0;34m\u001b[0m\u001b[0;34m\u001b[0m\u001b[0m\n\u001b[0m\u001b[1;32m      4\u001b[0m \u001b[0mplt\u001b[0m\u001b[0;34m.\u001b[0m\u001b[0mplot\u001b[0m\u001b[0;34m(\u001b[0m\u001b[0mjrb\u001b[0m\u001b[0;34m[\u001b[0m\u001b[0mcspray\u001b[0m\u001b[0;34m.\u001b[0m\u001b[0mbindx\u001b[0m\u001b[0;34m]\u001b[0m\u001b[0;34m,\u001b[0m\u001b[0mjpb\u001b[0m\u001b[0;34m[\u001b[0m\u001b[0mcspray\u001b[0m\u001b[0;34m.\u001b[0m\u001b[0mbindx\u001b[0m\u001b[0;34m]\u001b[0m\u001b[0;34m,\u001b[0m\u001b[0;34m'.'\u001b[0m\u001b[0;34m,\u001b[0m\u001b[0malpha\u001b[0m\u001b[0;34m=\u001b[0m\u001b[0;36m1\u001b[0m\u001b[0;34m,\u001b[0m\u001b[0mlabel\u001b[0m\u001b[0;34m=\u001b[0m\u001b[0;34m'Binary Stars'\u001b[0m\u001b[0;34m)\u001b[0m\u001b[0;34m\u001b[0m\u001b[0;34m\u001b[0m\u001b[0m\n\u001b[1;32m      5\u001b[0m \u001b[0;34m\u001b[0m\u001b[0m\n",
      "\u001b[0;31mNameError\u001b[0m: name 'jr' is not defined"
     ]
    },
    {
     "data": {
      "image/png": "[encoded data removed]",
      "text/plain": [
       "<Figure size 432x288 with 1 Axes>"
      ]
     },
     "metadata": {
      "needs_background": "light"
     },
     "output_type": "display_data"
    }
   ],
   "source": [
    "plt.subplot(1,2,1)\n",
    "\n",
    "plt.plot(jr[vindx],jp[vindx],'.',alpha=1,label='Single Stars')\n",
    "plt.plot(jrb[cspray.bindx],jpb[cspray.bindx],'.',alpha=1,label='Binary Stars')\n",
    "\n",
    "plt.plot(cspray.o.jr(),cspray.o.jp(),'o',label='GC')\n",
    "\n",
    "plt.legend()\n",
    "plt.xlabel('Jr')\n",
    "plt.ylabel('Jp')\n",
    "plt.xlim(0,1000)\n",
    "\n",
    "plt.subplot(1,2,2)\n",
    "\n",
    "plt.plot(jr[vindx],jz[vindx],'.',alpha=1)\n",
    "plt.plot(jrb[cspray.bindx],jzb[cspray.bindx],'.',alpha=1)\n",
    "\n",
    "plt.plot(cspray.o.jr(),cspray.o.jz(),'o')\n",
    "\n",
    "plt.xlabel('Jr')\n",
    "plt.ylabel('Jz')\n",
    "\n",
    "plt.xlim(0,1000)\n",
    "\n",
    "plt.tight_layout()\n",
    "\n",
    "plt.show()\n",
    "plt.close()"
   ]
  },
  {
   "cell_type": "code",
   "execution_count": null,
   "id": "2737ca42-569f-4f7f-9d01-599406c6f0c3",
   "metadata": {},
   "outputs": [],
   "source": [
    "jrb[cspray.bindx]"
   ]
  },
  {
   "cell_type": "code",
   "execution_count": null,
   "id": "f39fab09-59c9-4033-ad65-b1cfa98f8161",
   "metadata": {},
   "outputs": [],
   "source": [
    "jpb[cspray.bindx]"
   ]
  },
  {
   "cell_type": "code",
   "execution_count": null,
   "id": "584b349f-2ab3-4dfb-b528-7ce8ac18733f",
   "metadata": {},
   "outputs": [],
   "source": [
    "jzb[cspray.bindx]"
   ]
  },
  {
   "cell_type": "code",
   "execution_count": null,
   "id": "ec95c867-6e25-4b3e-8e6d-f1877d0ee612",
   "metadata": {},
   "outputs": [],
   "source": [
    "cspray.obf.vx()[cspray.bindx]"
   ]
  },
  {
   "cell_type": "code",
   "execution_count": null,
   "id": "a06fbe4e-5ecd-443a-bbb8-ac1bc35c47c4",
   "metadata": {},
   "outputs": [],
   "source": [
    "cspray.obf.vy()[cspray.bindx]"
   ]
  },
  {
   "cell_type": "code",
   "execution_count": null,
   "id": "ccd087df-4c35-4022-9dff-547d69a426d0",
   "metadata": {},
   "outputs": [],
   "source": [
    "cspray.obf.vz()[cspray.bindx]"
   ]
  },
  {
   "cell_type": "code",
   "execution_count": null,
   "id": "db2dae93-794f-44e5-a346-f066ab5d7b8c",
   "metadata": {},
   "outputs": [],
   "source": []
  }
 ],
 "metadata": {
  "kernelspec": {
   "display_name": "Python 3",
   "language": "python",
   "name": "python3"
  },
  "language_info": {
   "codemirror_mode": {
    "name": "ipython",
    "version": 3
   },
   "file_extension": ".py",
   "mimetype": "text/x-python",
   "name": "python",
   "nbconvert_exporter": "python",
   "pygments_lexer": "ipython3",
   "version": "3.9.1"
  }
 },
 "nbformat": 4,
 "nbformat_minor": 5
}
