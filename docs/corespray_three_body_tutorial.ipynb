{
 "cells": [
  {
   "cell_type": "markdown",
   "metadata": {},
   "source": [
    "## How to simulate extra-tidal stars and binaries of globular clusters with Corespray."
   ]
  },
  {
   "cell_type": "markdown",
   "metadata": {},
   "source": [
    "### STEP 0: Import the necessary Python packages. \n",
    "\n",
    "$\\texttt{corespray}$ can be downloaded at: https://github.com/webbjj/corespray. \n",
    "\n",
    "$\\texttt{galpy}$ (Bovy 2015) can be downloaded at: https://docs.galpy.org/en/v1.8.0/. \n"
   ]
  },
  {
   "cell_type": "code",
   "execution_count": 1,
   "metadata": {},
   "outputs": [
    {
     "name": "stdout",
     "output_type": "stream",
     "text": [
      "\u001b[91mA new version of galpy (1.8.1) is available, please upgrade using pip/conda/... to get the latest features and bug fixes!\u001b[0m\n"
     ]
    }
   ],
   "source": [
    "# Import corespray:\n",
    "from corespray import corespraydf,load_galpy_potential\n",
    "\n",
    "# Import galpy packages:\n",
    "from galpy.potential import MWPotential2014\n",
    "from galpy.potential import KingPotential\n",
    "from galpy.util import conversion\n",
    "from galpy.orbit import Orbit\n",
    "\n",
    "# Import other necessary Python packages:\n",
    "import numpy as np\n",
    "import matplotlib.pyplot as plt\n",
    "from matplotlib import rc\n",
    "plt.rcParams['mathtext.fontset'] = 'stix'\n",
    "plt.rcParams['font.family'] = 'STIXGeneral'\n",
    "from matplotlib import animation\n",
    "\n",
    "\n",
    "from IPython.display import HTML\n",
    "%matplotlib inline"
   ]
  },
  {
   "cell_type": "markdown",
   "metadata": {},
   "source": [
    "### STEP 1: Load in the specific parameters for your GC of interest:\n",
    "Spatial, kinematic and orbital parameters for most Galactic GCs can be found in the Baumgardt & Hilker (2018) catalogue. This catalogue is accessible at: https://people.smp.uq.edu.au/HolgerBaumgardt/globular/. \n",
    "\n",
    "For this example, we simulate extra-tidal stars and binaries of M3. "
   ]
  },
  {
   "cell_type": "code",
   "execution_count": 2,
   "metadata": {},
   "outputs": [],
   "source": [
    "#Name of Galactic Globular Cluster from which to simulate core ejection or a Galpy orbit instance\n",
    "gcname ='M3' \n",
    "#Potentional to be used for orbit integration (default: MWPotential2014)\n",
    "potential = load_galpy_potential()  # Galactic potential model\n",
    "#average 1D velocity in the core (default: 0 km/s)\n",
    "mu0 = 0. \n",
    "#avarege 1D velocity disperions in the core (default 10.0 km/s)\n",
    "sig0 = 7.6\n",
    "#escape velocity from the core (default: 10.0 km/s)\n",
    "vesc0 = 30.0  # Central escape velocity [km/s]\n",
    "#core density (default: 1 Msun/pc^3)\n",
    "rho0 = 10.0**3.67\n",
    "#globular cluster mass - needed if cluster's potential is to be included in orbit integration of escapers (default: None)\n",
    "mgc = 4.06e5  # Mass [solar masses]\n",
    "#half-mass radius of globular cluster (assuming Plummer potential) or tidal radius of globular cluster (assuming King potential) (default: None)\n",
    "rgc = 127.28/1000.0  # Tidal radius of GC [kpc]\n",
    "#King central potential parameter (default: None, which results in cluster potential taken to be a Plummer)\n",
    "W0 = 8.61469762517307 \n",
    "#minimum stellar mass in core (default (0.1 Msun))\n",
    "mmin = 0.1 \n",
    "#maximum stellar mass in the core (default: 1.4 Msun)\n",
    "mmax = 1.4\n",
    "#slope of the stellar mass function in the core (default: -1.35)\n",
    "alpha = -1.35 #(Salpeter 1955)\n",
    "#If emin and emax are None, assume limits are between twice the hard-soft boundary and twice the contact boundary between two solar mass stars\n",
    "#minimum binary energy (default: None)\n",
    "emin=None\n",
    "#maximum binary energy (default: None)\n",
    "emax=None\n",
    "#galpy length scaling parameter (default: 8.)\n",
    "ro = 8. #radius of the solar circle \n",
    "#galpy veocicity scaling parameter (default: 220.)\n",
    "vo = 220. #circular orbit velocity at the solar circle\n",
    "#exponenet for calculating probability of stellar escape from three-body system (#Equation 7.23)\n",
    "#(default: -3)\n",
    "q=-3"
   ]
  },
  {
   "cell_type": "markdown",
   "metadata": {},
   "source": [
    "### STEP 2: Initialize a corespray instance using your previously defined parameters"
   ]
  },
  {
   "cell_type": "code",
   "execution_count": 3,
   "metadata": {},
   "outputs": [],
   "source": [
    "# Initialize corespray\n",
    "cspray = corespraydf(gcname, \n",
    "                     potential, \n",
    "                     mgc, rgc, W0, \n",
    "                     ro,vo)"
   ]
  },
  {
   "cell_type": "markdown",
   "metadata": {},
   "source": [
    "### STEP 3: Sample core ejections along the orbit for 1000 Myr.\n"
   ]
  },
  {
   "cell_type": "code",
   "execution_count": 4,
   "metadata": {},
   "outputs": [
    {
     "ename": "NameError",
     "evalue": "name 'verbose' is not defined",
     "output_type": "error",
     "traceback": [
      "\u001b[0;31m---------------------------------------------------------------------------\u001b[0m",
      "\u001b[0;31mNameError\u001b[0m                                 Traceback (most recent call last)",
      "\u001b[0;32m<ipython-input-4-d204d3960f32>\u001b[0m in \u001b[0;36m<module>\u001b[0;34m\u001b[0m\n\u001b[1;32m     14\u001b[0m \u001b[0mbinaries\u001b[0m\u001b[0;34m=\u001b[0m\u001b[0;32mTrue\u001b[0m\u001b[0;34m\u001b[0m\u001b[0;34m\u001b[0m\u001b[0m\n\u001b[1;32m     15\u001b[0m \u001b[0;34m\u001b[0m\u001b[0m\n\u001b[0;32m---> 16\u001b[0;31m os,ob = cspray.sample_three_body(tdisrupt,rate,nstar,\n\u001b[0m\u001b[1;32m     17\u001b[0m                                  \u001b[0mmu0\u001b[0m\u001b[0;34m,\u001b[0m\u001b[0msig0\u001b[0m\u001b[0;34m,\u001b[0m\u001b[0mvesc0\u001b[0m\u001b[0;34m,\u001b[0m\u001b[0mrho0\u001b[0m\u001b[0;34m,\u001b[0m\u001b[0;34m\u001b[0m\u001b[0;34m\u001b[0m\u001b[0m\n\u001b[1;32m     18\u001b[0m                                  \u001b[0mmmin\u001b[0m\u001b[0;34m,\u001b[0m\u001b[0mmmax\u001b[0m\u001b[0;34m,\u001b[0m\u001b[0malpha\u001b[0m\u001b[0;34m,\u001b[0m\u001b[0;34m\u001b[0m\u001b[0;34m\u001b[0m\u001b[0m\n",
      "\u001b[0;32m~/Codes/corespray/corespray/df/corespraydf.py\u001b[0m in \u001b[0;36msample_three_body\u001b[0;34m(self, tdisrupt, rate, nstar, mu0, sig0, vesc0, rho0, mmin, mmax, alpha, emin, emax, q, npeak, binaries, verbose, **kwargs)\u001b[0m\n\u001b[1;32m    293\u001b[0m \u001b[0;34m\u001b[0m\u001b[0m\n\u001b[1;32m    294\u001b[0m \u001b[0;34m\u001b[0m\u001b[0m\n\u001b[0;32m--> 295\u001b[0;31m                 \u001b[0mself\u001b[0m\u001b[0;34m.\u001b[0m\u001b[0moi\u001b[0m\u001b[0;34m,\u001b[0m\u001b[0mself\u001b[0m\u001b[0;34m.\u001b[0m\u001b[0mof\u001b[0m\u001b[0;34m=\u001b[0m\u001b[0mself\u001b[0m\u001b[0;34m.\u001b[0m\u001b[0m_integrate_orbits\u001b[0m\u001b[0;34m(\u001b[0m\u001b[0mvxkick\u001b[0m\u001b[0;34m,\u001b[0m\u001b[0mvykick\u001b[0m\u001b[0;34m,\u001b[0m\u001b[0mvzkick\u001b[0m\u001b[0;34m)\u001b[0m\u001b[0;34m\u001b[0m\u001b[0;34m\u001b[0m\u001b[0m\n\u001b[0m\u001b[1;32m    296\u001b[0m \u001b[0;34m\u001b[0m\u001b[0m\n\u001b[1;32m    297\u001b[0m                 \u001b[0;32mif\u001b[0m \u001b[0mbinaries\u001b[0m\u001b[0;34m:\u001b[0m\u001b[0;34m\u001b[0m\u001b[0;34m\u001b[0m\u001b[0m\n",
      "\u001b[0;32m~/Codes/corespray/corespray/df/corespraydf.py\u001b[0m in \u001b[0;36m_integrate_orbits\u001b[0;34m(self, vxkick, vykick, vzkick, binaries)\u001b[0m\n\u001b[1;32m    317\u001b[0m                         \u001b[0mvzi\u001b[0m\u001b[0;34m=\u001b[0m\u001b[0mvzkick\u001b[0m\u001b[0;34m[\u001b[0m\u001b[0mi\u001b[0m\u001b[0;34m]\u001b[0m\u001b[0;34m+\u001b[0m\u001b[0mself\u001b[0m\u001b[0;34m.\u001b[0m\u001b[0mo\u001b[0m\u001b[0;34m.\u001b[0m\u001b[0mvz\u001b[0m\u001b[0;34m(\u001b[0m\u001b[0mself\u001b[0m\u001b[0;34m.\u001b[0m\u001b[0mtesc\u001b[0m\u001b[0;34m[\u001b[0m\u001b[0mi\u001b[0m\u001b[0;34m]\u001b[0m\u001b[0;34m/\u001b[0m\u001b[0mself\u001b[0m\u001b[0;34m.\u001b[0m\u001b[0mto\u001b[0m\u001b[0;34m)\u001b[0m\u001b[0;34m\u001b[0m\u001b[0;34m\u001b[0m\u001b[0m\n\u001b[1;32m    318\u001b[0m \u001b[0;34m\u001b[0m\u001b[0m\n\u001b[0;32m--> 319\u001b[0;31m                         \u001b[0;32mif\u001b[0m \u001b[0mverbose\u001b[0m\u001b[0;34m:\u001b[0m \u001b[0mprint\u001b[0m\u001b[0;34m(\u001b[0m\u001b[0mi\u001b[0m\u001b[0;34m,\u001b[0m\u001b[0mself\u001b[0m\u001b[0;34m.\u001b[0m\u001b[0mtesc\u001b[0m\u001b[0;34m[\u001b[0m\u001b[0mi\u001b[0m\u001b[0;34m]\u001b[0m\u001b[0;34m,\u001b[0m\u001b[0mxi\u001b[0m\u001b[0;34m,\u001b[0m\u001b[0myi\u001b[0m\u001b[0;34m,\u001b[0m\u001b[0mzi\u001b[0m\u001b[0;34m,\u001b[0m\u001b[0mvxi\u001b[0m\u001b[0;34m,\u001b[0m\u001b[0mvyi\u001b[0m\u001b[0;34m,\u001b[0m\u001b[0mvzi\u001b[0m\u001b[0;34m)\u001b[0m\u001b[0;34m\u001b[0m\u001b[0;34m\u001b[0m\u001b[0m\n\u001b[0m\u001b[1;32m    320\u001b[0m \u001b[0;34m\u001b[0m\u001b[0m\n\u001b[1;32m    321\u001b[0m                         \u001b[0;31m#Save initial positions and velocities\u001b[0m\u001b[0;34m\u001b[0m\u001b[0;34m\u001b[0m\u001b[0;34m\u001b[0m\u001b[0m\n",
      "\u001b[0;31mNameError\u001b[0m: name 'verbose' is not defined"
     ]
    }
   ],
   "source": [
    "#time over which sampling begins (Myr)\n",
    "tdisrupt=1000.0\n",
    "#ejection rate (default 1 per Myr)\n",
    "rate=1.0\n",
    "#if set, nstar stars will be ejected randomly from -tdisrupt to 0 Myr. \n",
    "#Rate is recalculated. (default : None)\n",
    "nstar=10\n",
    "#when sampling kick velocity distribution function\n",
    "#sampling range will be from 0 to npeak*vpeak, where \n",
    "#vpeak is the peak in the distribution function (default: 5)\n",
    "npeak=5\n",
    "#keep track of binaries that receive recoil kicks greater than \n",
    "#the cluster's escape velocity (default : False)\n",
    "binaries=True\n",
    "\n",
    "os,ob = cspray.sample_three_body(tdisrupt,rate,nstar,\n",
    "                                 mu0,sig0,vesc0,rho0,\n",
    "                                 mmin,mmax,alpha,\n",
    "                                 emin,emax,\n",
    "                                 q,\n",
    "                                 npeak,binaries)"
   ]
  },
  {
   "cell_type": "markdown",
   "metadata": {},
   "source": [
    "### STEP 4: Extract parameters for the SINGLE escapers:"
   ]
  },
  {
   "cell_type": "code",
   "execution_count": null,
   "metadata": {},
   "outputs": [],
   "source": [
    "t_esc = cspray.tesc  # [Myr] in the past that star escaped\n",
    "v_esc = cspray.vesc  # [km/s] kick velocity that star received\n",
    "mstar = cspray.mstar # [Msol] mass of kicked star"
   ]
  },
  {
   "cell_type": "markdown",
   "metadata": {},
   "source": [
    "### STEP 5: Extract parameters for all BINARY stars:"
   ]
  },
  {
   "cell_type": "code",
   "execution_count": null,
   "metadata": {},
   "outputs": [],
   "source": [
    "# Would tesc of binary be same as escaper star?\n",
    "v_esc_b = cspray.vescb  # [km/s] kick velocity that star received\n",
    "m_b1 = cspray.mb1  # [Msol] mass of primary star\n",
    "m_b2 = cspray.mb2  # [Msol] mass of secondary star\n",
    "m_b_tot = m_b1 + m_b2  # [Msol]\n",
    "\n",
    "# bindx is a boolean that gives indxs of binaries that escaped the cluster: \n",
    "bin_esc = cspray.bindx\n",
    "print(\"{}/{} binaries escaped {}.\".format(len(ob[bin_esc]), len(ob), gcname))"
   ]
  },
  {
   "cell_type": "markdown",
   "metadata": {},
   "source": [
    "#### Explore some parameter spaces of your simulated extra-tidal stars and binaries!\n",
    "-- Note the cluster's orbit instance is set to cspray.o"
   ]
  },
  {
   "cell_type": "code",
   "execution_count": null,
   "metadata": {},
   "outputs": [],
   "source": [
    "fig, ax = plt.subplots(nrows=2, ncols=2, figsize=(10, 10))\n",
    "\n",
    "# RA vs Dec positions:\n",
    "ax[0, 0].scatter(os.ra(), os.dec(), marker='o', s=50, edgecolor='black', c='#8d99ae', alpha=0.9) \n",
    "ax[0, 0].scatter(ob.ra()[bin_esc], ob.dec()[bin_esc], marker='o', s=50, edgecolor='black', c='#ef233c', alpha=0.9) \n",
    "ax[0, 0].scatter(cspray.o.ra(), cspray.o.dec(), marker='*', s=250, edgecolor='black', c='#2b2d42')\n",
    "ax[0, 0].set_xlabel(r\"$\\alpha$ ($^\\circ $)\", fontsize=18)\n",
    "ax[0, 0].set_ylabel(r\"$\\delta$ ($^\\circ $)\", fontsize=18)\n",
    "ax[0, 0].tick_params(axis='both', which='major', labelsize=16)\n",
    "ax[0, 0].tick_params(axis='both', which='minor', labelsize=16)\n",
    "\n",
    "# R vs z positions:\n",
    "ax[0, 1].scatter(os.r(), os.z(), marker='o', s=50, edgecolor='black', c='#8d99ae', alpha=0.9, label='Extra-tidal stars') \n",
    "ax[0, 1].scatter(ob.r()[bin_esc], ob.z()[bin_esc], marker='o', s=50, edgecolor='black', c='#ef233c', alpha=0.9, label='Extra-tidal binaries') \n",
    "ax[0, 1].scatter(cspray.o.r(), cspray.o.z(), marker='*', s=250, edgecolor='black', c='#2b2d42', label='M3 Centre')\n",
    "ax[0, 1].set_xlabel(r\"$r$ (kpc)\", fontsize=18)\n",
    "ax[0, 1].set_ylabel(r\"$z$ (kpc)\", fontsize=18)\n",
    "ax[0, 1].tick_params(axis='both', which='major', labelsize=16)\n",
    "ax[0, 1].tick_params(axis='both', which='minor', labelsize=16)\n",
    "ax[0, 1].legend(fontsize=16)\n",
    "\n",
    "# Proper motion:\n",
    "ax[1, 0].scatter(os.pmra(), os.pmdec(), marker='o', s=50, edgecolor='black', c='#8d99ae', alpha=0.9) \n",
    "ax[1, 0].scatter(ob.pmra()[bin_esc], ob.pmdec()[bin_esc], marker='o', s=50, edgecolor='black', c='#ef233c', alpha=0.9) \n",
    "ax[1, 0].scatter(cspray.o.pmra(), cspray.o.pmdec(), marker='*', s=250, edgecolor='black', c='#2b2d42')\n",
    "ax[1, 0].set_xlabel(r\"$\\mu_{\\alpha}$ (mas/yr)\", fontsize=18)\n",
    "ax[1, 0].set_ylabel(r\"$\\mu_{\\delta}$ (mas/yr)\", fontsize=18)\n",
    "ax[1, 0].tick_params(axis='both', which='major', labelsize=16)\n",
    "ax[1, 0].tick_params(axis='both', which='minor', labelsize=16)\n",
    "\n",
    "# Escape velocities:\n",
    "ax[1, 1].hist(v_esc, bins=7, color='#8d99ae', density=True)\n",
    "ax[1, 1].hist(v_esc_b, bins=5, color='#ef233c', density=True)\n",
    "ax[1, 1].axvline(vesc0, ls='--', c='#2b2d42')\n",
    "ax[1, 1].tick_params(axis='both', which='major', labelsize=16)\n",
    "ax[1, 1].tick_params(axis='both', which='minor', labelsize=16)\n",
    "ax[1, 1].set_xlabel(r\"$v_{esc}$ (km/s)\", fontsize=18)\n",
    "ax[1, 1].set_ylabel(\"Normalized Counts\", fontsize=18)\n",
    "\n",
    "fig.tight_layout()\n",
    "plt.show()"
   ]
  },
  {
   "cell_type": "markdown",
   "metadata": {},
   "source": [
    "#### Animate the ejection of stars from the cluster's core"
   ]
  },
  {
   "cell_type": "code",
   "execution_count": null,
   "metadata": {},
   "outputs": [],
   "source": [
    "#frames - number of frames to use for animation (default:100)\n",
    "#interval - time intercal between frames (default: 50 Myr)  \n",
    "#xlim - xlimits for figure  \n",
    "#ylim - ylimts for figure\n",
    "\n",
    "cspray.animate(frames=100,interval=50,xlim=(-25,25),ylim=(-25,25))"
   ]
  },
  {
   "cell_type": "code",
   "execution_count": null,
   "metadata": {},
   "outputs": [],
   "source": [
    "HTML(cspray.anim.to_jshtml())\n"
   ]
  },
  {
   "cell_type": "markdown",
   "metadata": {},
   "source": [
    "### Create Snapshot"
   ]
  },
  {
   "cell_type": "code",
   "execution_count": null,
   "metadata": {},
   "outputs": [],
   "source": [
    "#Output present day positions, velocities, escape times, and escape velocities of stars\n",
    "#filename: file name to write data to (default: corespray.dat)\n",
    "#filenameb: file name to write binary data to (default: corespray.dat)\n",
    "cspray.snapout(filename='corespray_threebody.dat',filenameb='corespray_threebody_binaries.dat')"
   ]
  },
  {
   "cell_type": "code",
   "execution_count": null,
   "metadata": {},
   "outputs": [],
   "source": []
  }
 ],
 "metadata": {
  "kernelspec": {
   "display_name": "Python 3",
   "language": "python",
   "name": "python3"
  },
  "language_info": {
   "codemirror_mode": {
    "name": "ipython",
    "version": 3
   },
   "file_extension": ".py",
   "mimetype": "text/x-python",
   "name": "python",
   "nbconvert_exporter": "python",
   "pygments_lexer": "ipython3",
   "version": "3.9.1"
  }
 },
 "nbformat": 4,
 "nbformat_minor": 4
}
